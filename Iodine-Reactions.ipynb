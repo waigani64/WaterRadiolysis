{
 "cells": [
  {
   "cell_type": "code",
   "execution_count": 1,
   "id": "9179a753",
   "metadata": {},
   "outputs": [],
   "source": [
    "# this is a test calculation illustrating the general inputs and outputs\n",
    "# of a chemical kinetics calculation\n",
    "# The I2 concentration is a representation of the source term (initial condition)\n",
    "# whereas the OHd concentration is a representation of the dose\n",
    "# this calculation needs the following python libraries:\n",
    "# 1. numpy\n",
    "# http://www.numpy.org/\n",
    "# 2. chempy\n",
    "# https://pypi.org/project/chempy/\n",
    "# 3. pygslodeiv2\n",
    "# https://github.com/bjodah/pygslodeiv2\n",
    "# The rate constants are parameters in the model and are initialized in the InitialRateConstants list\n",
    "# The output is a dataset of the concentrations of all the species as a function of time\n",
    "import numpy as np\n",
    "import matplotlib.pyplot as plt\n",
    "from decimal import Decimal\n",
    "from chempy import ReactionSystem  # The Rate Constants Below Are Arbitrary\n",
    "from chempy.kinetics.ode import get_odesys\n",
    "from collections import defaultdict\n"
   ]
  },
  {
   "cell_type": "code",
   "execution_count": 2,
   "id": "6839c0d2",
   "metadata": {},
   "outputs": [],
   "source": [
    "# Packing and unpacking functions\n",
    "def UnpackRateConstants(ReactionString):\n",
    "\n",
    "    # Initialize a list containing the rate constants\n",
    "    rate_constant_list = []\n",
    "    # Split on newline first, split creates a list object\n",
    "    WithoutNewlines = ReactionString.split('\\n')\n",
    "    for Lines in WithoutNewlines:\n",
    "        if Lines:\n",
    "            reaction_string=Lines.split(';')\n",
    "            rate_string=reaction_string[1]\n",
    "            rate_constant_list.append(rate_string)\n",
    "    rate_constants = np.array(rate_constant_list)\n",
    "    return(rate_constants)\n",
    "\n"
   ]
  },
  {
   "cell_type": "code",
   "execution_count": 3,
   "id": "152a2f40",
   "metadata": {},
   "outputs": [],
   "source": [
    "def PackRateConstants(ReactionString, RateConstants):\n",
    "\n",
    "    if __debug__:\n",
    "        print(\"Length of Rate Constant list: {}\".format(len(RateConstants)))\n",
    "        print(\"Length of Reaction String list: {}\".format(len(ReactionString)))\n",
    "\n",
    "    # Split on newline first, split creates a list object\n",
    "    ModifiedReactionStringList = []\n",
    "    WithoutNewlines = ReactionString.split('\\n')\n",
    "    i = 0\n",
    "    for Lines in WithoutNewlines:\n",
    "        if Lines:\n",
    "            ReactionLine = []\n",
    "            reaction_string=Lines.split(';')\n",
    "            ReactionLine.append(reaction_string[0])\n",
    "            ReactionLine.append('; ')\n",
    "            ReactionLine.append(str('{:.2e}'.format(Decimal(RateConstants[i]))))\n",
    "            ModifiedReactionStringList.append(''.join(ReactionLine))\n",
    "            i = i + 1\n",
    "    return(\"\\n\".join(ModifiedReactionStringList))\n",
    "\n"
   ]
  },
  {
   "cell_type": "code",
   "execution_count": 4,
   "id": "04c4d6fd",
   "metadata": {},
   "outputs": [],
   "source": [
    "# Initiatise example - null values for rate constants for now\n",
    "ExampleReactionString = \"\"\"\n",
    "I2 + OH- -> I2OH- ; 0.0\n",
    "I2OH- -> I2 + OH- ; 0.0\n",
    "I2OH- -> HOI + I- ; 0.0\n",
    "HOI + I- -> I2OH- ; 0.0\n",
    "I2 + I- -> I3- ; 0.0\n",
    "I3- -> I2 + I- ; 0.0\n",
    "HOI -> IO- + H+ ; 0.0\n",
    "IO- + H+ -> HOI ; 0.0\n",
    "I2 + O2d- -> I2d- + O2 ; 0.0\n",
    "HOI + O2d- -> OH- + Id + O2 ; 0.0\n",
    "I2d- + O2d- -> O2 + 2 I- ; 0.0\n",
    "HOI + OHd -> IOd + H2O ; 0.0\n",
    "IOd + OHd -> HIO2 ; 0.0\n",
    "I- + OHd -> HOId- ; 0.0\n",
    "HOId- -> I- + OHd ; 0.0\n",
    "I2 + OHd -> HOI + Id ; 0.0\n",
    "I2OH- + H2O2 -> HIO2 + I- + H2O ; 0.0\n",
    "HIO2 + I- + H2O -> I2OH- + H2O2 ; 0.0\n",
    "HIO2 + OH- -> I- + O2 + H2O ; 0.0\n",
    "Id + I- -> I2d- ; 0.0\n",
    "I2d- -> Id + I- ; 0.0\n",
    "HOId- -> Id + OH- ; 0.0\n",
    "I2d- + I2d- -> I3- + I- ; 0.0\n",
    "I2d- + Id -> I3- ; 0.0\n",
    "Id + Id -> I2 ; 0.0\n",
    "\"\"\"\n",
    "\n",
    "InitialRateConstants = [10000000000.0, 664544.4450262444, 1300000.0, 433333333.3333333, 10000000000.0, 14292725.9260721, 0.10035316885187896, 10000000000.0, 60531433564.98382, 996189.6988886944, 2988569096.666083, 6973327892.2208605, 9961896988.886944, 10958086687.775639, 1125694.3597442247, 10958086687.775639, 2232251.6193094407, 9796995.529726665, 1972573266.0717788, 11954276386.664331, 2936066850441.4517, 119542763.86664332, 4482853644.999125, 4980948494.443472, 9961896988.886944]\n",
    "\n"
   ]
  },
  {
   "cell_type": "code",
   "execution_count": 5,
   "id": "6fd1245a",
   "metadata": {},
   "outputs": [
    {
     "name": "stdout",
     "output_type": "stream",
     "text": [
      "Length of Rate Constant list: 25\n",
      "Length of Reaction String list: 656\n",
      "I2 + OH- -> I2OH- ; 1.00e+10\n",
      "I2OH- -> I2 + OH- ; 6.65e+5\n",
      "I2OH- -> HOI + I- ; 1.30e+6\n",
      "HOI + I- -> I2OH- ; 4.33e+8\n",
      "I2 + I- -> I3- ; 1.00e+10\n",
      "I3- -> I2 + I- ; 1.43e+7\n",
      "HOI -> IO- + H+ ; 1.00e-1\n",
      "IO- + H+ -> HOI ; 1.00e+10\n",
      "I2 + O2d- -> I2d- + O2 ; 6.05e+10\n",
      "HOI + O2d- -> OH- + Id + O2 ; 9.96e+5\n",
      "I2d- + O2d- -> O2 + 2 I- ; 2.99e+9\n",
      "HOI + OHd -> IOd + H2O ; 6.97e+9\n",
      "IOd + OHd -> HIO2 ; 9.96e+9\n",
      "I- + OHd -> HOId- ; 1.10e+10\n",
      "HOId- -> I- + OHd ; 1.13e+6\n",
      "I2 + OHd -> HOI + Id ; 1.10e+10\n",
      "I2OH- + H2O2 -> HIO2 + I- + H2O ; 2.23e+6\n",
      "HIO2 + I- + H2O -> I2OH- + H2O2 ; 9.80e+6\n",
      "HIO2 + OH- -> I- + O2 + H2O ; 1.97e+9\n",
      "Id + I- -> I2d- ; 1.20e+10\n",
      "I2d- -> Id + I- ; 2.94e+12\n",
      "HOId- -> Id + OH- ; 1.20e+8\n",
      "I2d- + I2d- -> I3- + I- ; 4.48e+9\n",
      "I2d- + Id -> I3- ; 4.98e+9\n",
      "Id + Id -> I2 ; 9.96e+9\n"
     ]
    }
   ],
   "source": [
    "# Unpack\n",
    "#RateConstants = UnpackRateConstants( ExampleReactionString )\n",
    "\n",
    "# Set rate constants\n",
    "RateConstants = InitialRateConstants\n",
    "\n",
    "# Repack\n",
    "\n",
    "ReactionString = PackRateConstants( ExampleReactionString, RateConstants)\n",
    "print(ReactionString)\n"
   ]
  },
  {
   "cell_type": "code",
   "execution_count": 6,
   "id": "de51b71e",
   "metadata": {},
   "outputs": [
    {
     "name": "stdout",
     "output_type": "stream",
     "text": [
      "Time points: [0.0, 1e-12, 1.8420699693267164e-12, 3.3932217718953296e-12, 6.250551925273976e-12, 1.151395399326448e-11, 2.1209508879201924e-11, 3.906939937054621e-11, 7.196856730011528e-11, 1.3257113655901109e-10, 2.4420530945486546e-10, 4.498432668969453e-10, 8.28642772854686e-10, 1.5264179671752366e-09, 2.8117686979742364e-09, 5.179474679231223e-09, 9.540954763499964e-09, 1.757510624854793e-08, 3.237457542817647e-08, 5.963623316594649e-08, 1.0985411419875595e-07, 2.0235896477251596e-07, 3.7275937203149455e-07, 6.866488450043012e-07, 1.2648552168552984e-06, 2.3299518105153717e-06, 4.291934260128778e-06, 7.906043210907702e-06, 1.4563484775012445e-05, 2.6826957952797274e-05, 4.9417133613238384e-05, 9.102981779915228e-05, 0.000167683293681101, 0.0003088843596477485, 0.0005689866029018305, 0.0010481131341546874, 0.0019306977288832535, 0.0035564803062231357, 0.006551285568595523, 0.012067926406393313, 0.022229964825262002, 0.04094915062380436, 0.07543120063354639, 0.13894954943731416, 0.2559547922699544, 0.46938775510204084, 0.4714866363457409, 0.8685113737513556, 0.9387755102040817, 1.4081632653061225, 1.5998587196060639, 1.8775510204081634, 2.3469387755102042, 2.816326530612245, 2.9470517025518217, 3.285714285714286, 3.7551020408163267, 4.224489795918368, 4.6938775510204085, 5.163265306122449, 5.428675439323859, 5.63265306122449, 6.1020408163265305, 6.571428571428572, 7.040816326530613, 7.510204081632653, 7.979591836734694, 8.448979591836736, 8.918367346938776, 9.387755102040817, 9.857142857142858, 10.0, 10.326530612244898, 10.795918367346939, 11.26530612244898, 11.73469387755102, 12.204081632653061, 12.673469387755103, 13.142857142857144, 13.612244897959185, 14.081632653061225, 14.551020408163266, 15.020408163265307, 15.489795918367347, 15.959183673469388, 16.42857142857143, 16.89795918367347, 17.367346938775512, 17.836734693877553, 18.306122448979593, 18.775510204081634, 19.244897959183675, 19.714285714285715, 20.183673469387756, 20.653061224489797, 21.122448979591837, 21.591836734693878, 22.06122448979592, 22.53061224489796, 23.0]\n"
     ]
    },
    {
     "data": {
      "image/png": "[encoded data removed]",
      "text/plain": [
       "<Figure size 432x288 with 1 Axes>"
      ]
     },
     "metadata": {
      "needs_background": "light"
     },
     "output_type": "display_data"
    }
   ],
   "source": [
    "# Solve the ODEs\n",
    "\n",
    "rsys=ReactionSystem.from_string(ReactionString)\n",
    "odesys, extra = get_odesys(rsys)\n",
    "tout = sorted(np.concatenate((np.linspace(0, 23), np.logspace(-12, 1)))) # Some Time Points\n",
    "if __debug__:\n",
    "    print(\"Time points: {}\".format(tout))\n",
    "c0 = defaultdict(float, {'I2': 1.0, 'OHd': 1.0 }) # Initial Concentrations\n",
    "#result = odesys.integrate(tout, c0, atol=1e-12, rtol=1e-14)\n",
    "result = odesys.integrate(tout, c0, integrator='gsl', atol=1e-8, rtol=1e-8)#,atol=1e-9, rtol=1e-20)##integrator='gsl', atol=1e-12, rtol=1e-14)#,nsteps=1000)\n",
    "_ = result.plot(names=[k for k in rsys.substances])\n",
    "_ = plt.legend(loc='right', prop={'size': 9}); _ = plt.xlabel('time (s)'); _ = plt.ylabel('concentration (arb)'); _= plt.xscale('log')\n",
    "plt.savefig('reactionsystem.png')\n",
    "#return 'reactionsystem.png'\n"
   ]
  },
  {
   "cell_type": "code",
   "execution_count": null,
   "id": "49068ec1",
   "metadata": {},
   "outputs": [],
   "source": []
  }
 ],
 "metadata": {
  "kernelspec": {
   "display_name": "Python 3 (ipykernel)",
   "language": "python",
   "name": "python3"
  },
  "language_info": {
   "codemirror_mode": {
    "name": "ipython",
    "version": 3
   },
   "file_extension": ".py",
   "mimetype": "text/x-python",
   "name": "python",
   "nbconvert_exporter": "python",
   "pygments_lexer": "ipython3",
   "version": "3.9.7"
  }
 },
 "nbformat": 4,
 "nbformat_minor": 5
}
